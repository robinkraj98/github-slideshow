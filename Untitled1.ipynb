{
  "nbformat": 4,
  "nbformat_minor": 0,
  "metadata": {
    "colab": {
      "name": "Untitled1.ipynb",
      "provenance": [],
      "collapsed_sections": [],
      "authorship_tag": "ABX9TyMG+Z6B2tYIyHeOiiKUHENn",
      "include_colab_link": true
    },
    "kernelspec": {
      "name": "python3",
      "display_name": "Python 3"
    }
  },
  "cells": [
    {
      "cell_type": "markdown",
      "metadata": {
        "id": "view-in-github",
        "colab_type": "text"
      },
      "source": [
        "<a href=\"https://colab.research.google.com/github/robinkraj98/github-slideshow/blob/main/Untitled1.ipynb\" target=\"_parent\"><img src=\"https://colab.research.google.com/assets/colab-badge.svg\" alt=\"Open In Colab\"/></a>"
      ]
    },
    {
      "cell_type": "code",
      "metadata": {
        "colab": {
          "base_uri": "https://localhost:8080/"
        },
        "id": "ZQ19sz3zboS1",
        "outputId": "898928aa-5256-431e-fa10-2937c4b64630"
      },
      "source": [
        "num=float(input(\"enter a number:\"))\r\n",
        "if num>0:\r\n",
        "  print(\"Positive\")\r\n",
        "elif num==0:\r\n",
        "  print(\"Zero\")  \r\n",
        "else:\r\n",
        "  print(\"Negetive\")  \r\n",
        "print(\"End\")  \r\n"
      ],
      "execution_count": null,
      "outputs": [
        {
          "output_type": "stream",
          "text": [
            "enter a number:4\n",
            "Positive\n",
            "End\n"
          ],
          "name": "stdout"
        }
      ]
    },
    {
      "cell_type": "code",
      "metadata": {
        "colab": {
          "base_uri": "https://localhost:8080/"
        },
        "id": "oEX7LOTrexTM",
        "outputId": "6d6fa78e-f107-4e32-9c46-33006533d4c1"
      },
      "source": [
        "num=input(\"Enter a number:\")\r\n",
        "try:\r\n",
        "  val=int(num)\r\n",
        "  print(\"conversion successful\")\r\n",
        "except:\r\n",
        "  val=-1\r\n",
        "if val>0:\r\n",
        "  print(\"number is\",val)   \r\n",
        "else:\r\n",
        "  print(\"not a nymber\")  "
      ],
      "execution_count": null,
      "outputs": [
        {
          "output_type": "stream",
          "text": [
            "Enter a number:4\n",
            "conversion successful\n",
            "number is 4\n"
          ],
          "name": "stdout"
        }
      ]
    },
    {
      "cell_type": "code",
      "metadata": {
        "colab": {
          "base_uri": "https://localhost:8080/"
        },
        "id": "TOR47J7giQz6",
        "outputId": "2227ebe2-2290-4bc4-a83c-cac99038ca38"
      },
      "source": [
        "x=input(\"enter no of days:\")\r\n",
        "y=input(\"enter rate per day:\")\r\n",
        "try:\r\n",
        "  a=float(x)\r\n",
        "  b=float(y)\r\n",
        "except:\r\n",
        "  print(\"Error,please enter the numeric output\")  "
      ],
      "execution_count": null,
      "outputs": [
        {
          "output_type": "stream",
          "text": [
            "enter no of days:1\n",
            "enter rate per day:2\n"
          ],
          "name": "stdout"
        }
      ]
    },
    {
      "cell_type": "code",
      "metadata": {
        "id": "FKWIiD71mH-d",
        "colab": {
          "base_uri": "https://localhost:8080/"
        },
        "outputId": "37d0b3af-70a6-437d-f761-13b09b7238a7"
      },
      "source": [
        "def myFunction(robin):\r\n",
        "  if robin=='r':\r\n",
        "    print(\"good boy\")\r\n",
        "  elif robin=='s':\r\n",
        "     print(\"bad boy\") \r\n",
        "  else:\r\n",
        "    print(\"none\")  \r\n",
        "myFunction('s')    \r\n",
        "myFunction('t')\r\n",
        "myFunction('r')"
      ],
      "execution_count": null,
      "outputs": [
        {
          "output_type": "stream",
          "text": [
            "bad boy\n",
            "none\n",
            "good boy\n"
          ],
          "name": "stdout"
        }
      ]
    },
    {
      "cell_type": "code",
      "metadata": {
        "colab": {
          "base_uri": "https://localhost:8080/"
        },
        "id": "HCvw3wvxETBB",
        "outputId": "03858f0f-7007-4bc7-ce92-eebc4908f642"
      },
      "source": [
        "def myFunction(num):\r\n",
        "  if num%2==0:\r\n",
        "    print(\"even\")\r\n",
        "  else:\r\n",
        "    print(\"odd\")  \r\n",
        "myFunction(4)\r\n",
        "myFunction(5)\r\n",
        "myFunction(97)"
      ],
      "execution_count": null,
      "outputs": [
        {
          "output_type": "stream",
          "text": [
            "even\n",
            "odd\n",
            "odd\n"
          ],
          "name": "stdout"
        }
      ]
    },
    {
      "cell_type": "code",
      "metadata": {
        "id": "2DF9BU5NFa2I",
        "colab": {
          "base_uri": "https://localhost:8080/"
        },
        "outputId": "cf993b80-99ec-414b-ff5f-5930c91842a4"
      },
      "source": [
        "def myFunction():\r\n",
        "  return \"robin\"\r\n",
        "\r\n",
        "print(myFunction())  "
      ],
      "execution_count": null,
      "outputs": [
        {
          "output_type": "stream",
          "text": [
            "robin\n"
          ],
          "name": "stdout"
        }
      ]
    },
    {
      "cell_type": "code",
      "metadata": {
        "id": "1R6rbrDAJerI",
        "colab": {
          "base_uri": "https://localhost:8080/"
        },
        "outputId": "0095858e-cb2e-48b8-f25a-2743f4eefa18"
      },
      "source": [
        "x=input(\"Enter no. of days:\")\r\n",
        "y=input(\"Enter rate:\")\r\n",
        "xy=float(x)*float(y)\r\n",
        "print(xy)"
      ],
      "execution_count": null,
      "outputs": [
        {
          "output_type": "stream",
          "text": [
            "Enter no. of days:45\n",
            "Enter rate:14\n",
            "630.0\n"
          ],
          "name": "stdout"
        }
      ]
    },
    {
      "cell_type": "code",
      "metadata": {
        "id": "f9urFlQTK8-N",
        "colab": {
          "base_uri": "https://localhost:8080/"
        },
        "outputId": "7fec42f8-fd90-439a-c8f3-74f282338b00"
      },
      "source": [
        "count=0\r\n",
        "while (count<5):\r\n",
        "  count=count+1\r\n",
        "  print(\"robin is a good boy\")"
      ],
      "execution_count": null,
      "outputs": [
        {
          "output_type": "stream",
          "text": [
            "robin is a good boy\n",
            "robin is a good boy\n",
            "robin is a good boy\n",
            "robin is a good boy\n",
            "robin is a good boy\n"
          ],
          "name": "stdout"
        }
      ]
    },
    {
      "cell_type": "code",
      "metadata": {
        "id": "tb9DASuYsrZr"
      },
      "source": [
        ""
      ],
      "execution_count": null,
      "outputs": []
    }
  ]
}